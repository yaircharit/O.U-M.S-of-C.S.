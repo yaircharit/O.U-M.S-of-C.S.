{
  "cells": [
    {
      "cell_type": "markdown",
      "metadata": {
        "id": "view-in-github",
        "colab_type": "text"
      },
      "source": [
        "<a href=\"https://colab.research.google.com/github/yaircharit/OU-MS-of-CS/blob/CompVis-FinalProject/Font_Recognition.ipynb\" target=\"_parent\"><img src=\"https://colab.research.google.com/assets/colab-badge.svg\" alt=\"Open In Colab\"/></a>"
      ]
    },
    {
      "cell_type": "markdown",
      "source": [
        "# Progress"
      ],
      "metadata": {
        "id": "FixgfHkRprCO"
      }
    },
    {
      "cell_type": "code",
      "execution_count": null,
      "metadata": {
        "colab": {
          "base_uri": "https://localhost:8080/"
        },
        "id": "ntaFxjN3UIqY",
        "outputId": "c5e45897-1620-433c-8366-7715acebc36a"
      },
      "outputs": [
        {
          "name": "stdout",
          "output_type": "stream",
          "text": [
            "Drive already mounted at /content/drive/; to attempt to forcibly remount, call drive.mount(\"/content/drive/\", force_remount=True).\n"
          ]
        }
      ],
      "source": [
        "from google.colab import drive\n",
        "drive.mount('/content/drive/')"
      ]
    },
    {
      "cell_type": "markdown",
      "metadata": {
        "id": "C8fxH7XHlzPK"
      },
      "source": [
        "To Orgenize the database I seperated each char in every photo (only in the first image for starter."
      ]
    },
    {
      "cell_type": "code",
      "execution_count": null,
      "metadata": {
        "colab": {
          "base_uri": "https://localhost:8080/"
        },
        "id": "H_7Isws8WhAM",
        "outputId": "81ad361f-0418-4eb2-e638-2689dda5a2a6"
      },
      "outputs": [
        {
          "name": "stdout",
          "output_type": "stream",
          "text": [
            "ant+hill_102.jpg_0\n"
          ]
        }
      ],
      "source": [
        "import numpy as np\n",
        "import h5py\n",
        "db = h5py.File('/content/drive/MyDrive/SynthText.h5')\n",
        "validation_number = 0.1*len(db['data'])\n",
        "\n",
        "# train =db['data'][:validation_number]\n",
        "im_names = list(db['data'].keys())\n",
        "im = im_names[0]\n",
        "print(im)\n",
        "img = db['data'][im][:]\n",
        "font = db['data'][im].attrs['font']\n",
        "txt = db['data'][im].attrs['txt']\n",
        "charBB = db['data'][im].attrs['charBB'].transpose().astype(int)\n",
        "wordBB = db['data'][im].attrs['wordBB']\n",
        "\n",
        "chars = []\n",
        "for i in range(len(charBB)):\n",
        "  chars.append({'loc': charBB[i], 'font': font[i]})\n",
        "  \n",
        "# print(chars)\n",
        "\n",
        "# for attr in db['data'][im].attrs:\n",
        "#   print(attr)\n",
        "#   print(db['data'][im].attrs[attr])"
      ]
    },
    {
      "cell_type": "markdown",
      "metadata": {
        "id": "p0nlUeZSstSl"
      },
      "source": [
        "Getting the image of a letter"
      ]
    },
    {
      "cell_type": "code",
      "execution_count": null,
      "metadata": {
        "id": "Z4K2_NoinnCh"
      },
      "outputs": [],
      "source": [
        "import cv2 as cv\n",
        "from google.colab.patches import cv2_imshow\n",
        "\n",
        "cv2_imshow(img)\n",
        "coords = chars[15]['loc'].transpose()\n",
        "x_range = (int(min(coords[0])),int(max(coords[0])))\n",
        "y_range = (int(min(coords[1])),int(max(coords[1])))\n",
        "letter_img = img[y_range[0]:y_range[1],x_range[0]:x_range[1]]\n",
        "\n",
        "res = cv.cvtColor(letter_img, cv.COLOR_RGB2GRAY)\n",
        "# res = cv.GaussianBlur(res, (3, 3), 0)\n",
        "# res = cv.bitwise_not(res)\n",
        "print(res)\n",
        "temp = []\n",
        "s= sum([sum(row)/len(row) for row in res])/len(res)*1.05\n",
        "for row in res:\n",
        "  row[row <s]=0\n",
        "print(chars[15]['font'])\n",
        "cv2_imshow(res)"
      ]
    },
    {
      "cell_type": "markdown",
      "metadata": {
        "id": "-VT7eQhPs3Z8"
      },
      "source": [
        "Now to sum everything so far:\n",
        "We reorganized the dataset to so that for each image there'll be a list of all letters and its information (location, font, image)"
      ]
    },
    {
      "cell_type": "markdown",
      "source": [
        "To really start processing the entire DB these tasks needs to be in functions, So i polished their functionalities and improved uppon them while isolating them to stand-alone functions"
      ],
      "metadata": {
        "id": "-sI0zLyvp8ij"
      }
    },
    {
      "cell_type": "markdown",
      "source": [
        "# Imports"
      ],
      "metadata": {
        "id": "nQ8t0HK_pYnG"
      }
    },
    {
      "cell_type": "code",
      "execution_count": 203,
      "metadata": {
        "id": "06EJuAd7ufjd"
      },
      "outputs": [],
      "source": [
        "import numpy as np\n",
        "import cv2 as cv\n",
        "from google.colab.patches import cv2_imshow\n",
        "from math import ceil\n",
        "from google.colab import drive\n",
        "drive.mount('/content/drive/')"
      ]
    },
    {
      "cell_type": "markdown",
      "source": [
        "# Functions"
      ],
      "metadata": {
        "id": "7-Z__av0pbmK"
      }
    },
    {
      "cell_type": "code",
      "execution_count": 207,
      "metadata": {
        "id": "FtC14rD0ORru"
      },
      "outputs": [],
      "source": [
        "def subimage(image, center, wNh, theta):\n",
        "   ''' \n",
        "   Rotates OpenCV image around center with angle theta (in deg)\n",
        "   then crops the image according to width and height.\n",
        "   '''\n",
        "\n",
        "   # Uncomment for theta in radians\n",
        "   #theta *= 180/np.pi\n",
        "\n",
        "   width,height = (round(wNh[0]),round(wNh[1]))\n",
        "   shape = ( image.shape[1], image.shape[0] ) # cv2.warpAffine expects shape in (length, height)\n",
        "\n",
        "   matrix = cv.getRotationMatrix2D( center=center, angle=theta, scale=1 )\n",
        "   image = cv.warpAffine( src=image, M=matrix, dsize=shape )\n",
        "   \n",
        "   x = int( center[0] - width/2  )\n",
        "   y = int( center[1] - height/2 )\n",
        "   \n",
        "   image = image[ y:y+height, x:x+width ]\n",
        "   return image"
      ]
    },
    {
      "cell_type": "code",
      "execution_count": 192,
      "metadata": {
        "id": "HUiyURyu81wi"
      },
      "outputs": [],
      "source": [
        "def get_letter_image(img,char_coords):\n",
        "  \"\"\"\n",
        "  Gets the specified letter from image and straightens the image\n",
        "  :param img:   The image to crop letter from\n",
        "  :char_coords: Letter's BoundBox coordinations\n",
        "  :return:      A good image of the subimage in char_coords\n",
        "  \"\"\"\n",
        "  rect = cv.minAreaRect(char_coords)\n",
        "  img_crop = subimage(img,*rect)\n",
        "  img_crop = cv.rotate(img_crop, cv.cv2.ROTATE_90_COUNTERCLOCKWISE)\n",
        "\n",
        "  return img_crop"
      ]
    },
    {
      "cell_type": "code",
      "execution_count": 209,
      "metadata": {
        "id": "HG1TJNnis92W"
      },
      "outputs": [],
      "source": [
        "def get_letters_info(img_data):\n",
        "  \"\"\"\n",
        "  gets an image and its data and returns an organized dataset for each letter in the image\n",
        "  :param img_data:  db['data'][im], contains 'font' and 'charBB'\n",
        "  :return:          dataset of letters. letter={'font':'...','loc':[coords], 'img': [image]}\n",
        "  :rtype:           list\n",
        "  \"\"\"\n",
        "  img = img_data[:]\n",
        "  font = img_data.attrs['font']\n",
        "  charBB = img_data.attrs['charBB'].transpose().astype(int)\n",
        "\n",
        "  chars = []\n",
        "  for i in range(len(charBB)):\n",
        "    letter_img = get_letter_image(img,charBB[i])\n",
        "    chars.append({'loc': charBB[i], 'font': font[i], 'img': letter_img})\n",
        "  return chars\n",
        "  "
      ]
    },
    {
      "cell_type": "markdown",
      "source": [
        "# Initialize Database and setup data structures"
      ],
      "metadata": {
        "id": "eSvQTlwqohca"
      }
    },
    {
      "cell_type": "code",
      "execution_count": 211,
      "metadata": {
        "colab": {
          "base_uri": "https://localhost:8080/"
        },
        "id": "V3FSbHxzwQOD",
        "outputId": "487a6fa4-a23a-4e95-aee2-aab62f38e256"
      },
      "outputs": [
        {
          "output_type": "stream",
          "name": "stdout",
          "text": [
            "28197\n"
          ]
        }
      ],
      "source": [
        "\n",
        "db = h5py.File('/content/drive/MyDrive/SynthText.h5')\n",
        "validation_number = 0.1*len(db['data'])\n",
        "im_names = list(db['data'].keys())\n",
        "\n",
        "imgs = []\n",
        "all_chars = []\n",
        "for img_name in im_names:\n",
        "  chars = get_letters_info(db['data'][img_name])\n",
        "  all_chars += chars\n",
        "  imgs.append({'img': db['data'][img_name],'chars':chars})\n",
        "print(len(all_chars))"
      ]
    },
    {
      "cell_type": "markdown",
      "source": [
        "## Test dataset"
      ],
      "metadata": {
        "id": "ePKwIu5xpkp0"
      }
    },
    {
      "cell_type": "code",
      "source": [
        "cv2_imshow(all_chars[15]['img'])\n",
        "# print(all_chars[0])"
      ],
      "metadata": {
        "colab": {
          "base_uri": "https://localhost:8080/",
          "height": 65
        },
        "id": "lnw9qeKUmhnA",
        "outputId": "39041ce4-02aa-4eba-dd88-1139f3a9222e"
      },
      "execution_count": 210,
      "outputs": [
        {
          "output_type": "display_data",
          "data": {
            "image/png": "[encoded data removed]",
            "text/plain": [
              "<PIL.Image.Image image mode=RGB size=18x48 at 0x7F70B68754D0>"
            ]
          },
          "metadata": {}
        }
      ]
    }
  ],
  "metadata": {
    "accelerator": "GPU",
    "colab": {
      "collapsed_sections": [],
      "name": "Font Recognition.ipynb",
      "provenance": [],
      "mount_file_id": "1MyCAVscPITdxxHePPou7eVHP2XftojAj",
      "authorship_tag": "ABX9TyNByYGlenKF68v9Xr97WN/T",
      "include_colab_link": true
    },
    "kernelspec": {
      "display_name": "Python 3",
      "name": "python3"
    },
    "language_info": {
      "name": "python"
    }
  },
  "nbformat": 4,
  "nbformat_minor": 0
}